{
 "cells": [
  {
   "cell_type": "code",
   "execution_count": 23,
   "id": "ae128127",
   "metadata": {},
   "outputs": [
    {
     "name": "stdout",
     "output_type": "stream",
     "text": [
      "(2000, 20)\n",
      "(2000, 1)\n",
      "(50000,)\n",
      "(50000, 20)\n"
     ]
    }
   ],
   "source": [
    "import numpy as np\n",
    "import matplotlib.pyplot as plt\n",
    "import pandas as pd\n",
    "import math \n",
    "import copy\n",
    "# reading the data\n",
    "df = pd.read_csv('linear_train.csv')\n",
    "temp = df.to_numpy()\n",
    "X_test = temp[1:2001,1:21]\n",
    "y_test = temp[1:2001,21:22]\n",
    "y_train = temp[:,21]\n",
    "X_train = temp[:,1:21]\n",
    "print(X_test.shape)\n",
    "print(y_test.shape)\n",
    "print(y_train.shape)\n",
    "print(X_train.shape)"
   ]
  },
  {
   "cell_type": "code",
   "execution_count": 24,
   "id": "787c76a0",
   "metadata": {
    "scrolled": false
   },
   "outputs": [],
   "source": [
    "def zscore(X_in):\n",
    "    mu     = np.mean(X_in, axis=0)                 \n",
    "    sigma  = np.std(X_in, axis=0)                \n",
    "    X_norm = (X_in - mu) / sigma  \n",
    "    return (X_norm, mu, sigma)\n",
    "X,mu,sigma = zscore(X_train)\n"
   ]
  },
  {
   "cell_type": "code",
   "execution_count": 25,
   "id": "82efc8ab",
   "metadata": {},
   "outputs": [],
   "source": [
    "# defining the cost function\n",
    "def compute_cost(x,y,w,b):\n",
    "    m,n = x.shape\n",
    "    cost = np.zeros(m)\n",
    "    for i in range(m):\n",
    "        cost[i] = ((np.dot(x[i],w) + b) - y[i])**2\n",
    "    total_cost = np.sum(cost)/(2*m)\n",
    "    return total_cost\n"
   ]
  },
  {
   "cell_type": "code",
   "execution_count": 26,
   "id": "e31826d3",
   "metadata": {},
   "outputs": [],
   "source": [
    "# defining the gradient descent\n",
    "def compute_gradient(x, y, w, b): \n",
    "    \n",
    "    m,n = x.shape          \n",
    "    dj_dw = np.zeros((m,n))\n",
    "    dj_db = np.zeros(m)\n",
    "    \n",
    "\n",
    "    for i in range(m):                             \n",
    "        c = (np.dot(x[i],w) + b) - y[i]  \n",
    "        dj_dw[i] = c*x[i]\n",
    "        dj_db[i] = c\n",
    "    dj_dw = np.sum(dj_dw,axis = 0)/m\n",
    "    dj_db = np.sum(dj_db)/m\n",
    "                                 \n",
    "        \n",
    "        \n",
    "    return (dj_db,dj_dw)\n"
   ]
  },
  {
   "cell_type": "code",
   "execution_count": null,
   "id": "a935bbe2",
   "metadata": {},
   "outputs": [],
   "source": []
  },
  {
   "cell_type": "code",
   "execution_count": null,
   "id": "0103d004",
   "metadata": {
    "scrolled": false
   },
   "outputs": [],
   "source": [
    "# defining the gradient descent function\n",
    "def gradient_descent(x,y,w_in,b_in,cost_function,gradient_function,num_iters,alpha):\n",
    "    I = []\n",
    "    J = []\n",
    "    \n",
    "    w = copy.deepcopy(w_in)\n",
    "    b = b_in\n",
    "    \n",
    "    for i in range (num_iters):\n",
    "        dj_db, dj_dw = gradient_function(x,y,w,b)\n",
    "        w = w - (alpha * dj_dw)\n",
    "        b = b - (alpha * dj_db)\n",
    "        \n",
    "        if i < 10000:\n",
    "            J.append(cost_function(x,y,w,b))\n",
    "            I.append(i)\n",
    "        \n",
    "        if i% math.ceil(num_iters/10) == 0:\n",
    "            print(f\"Iteration : {I[-1]} and Cost: {J[-1]} \")\n",
    "        print(i)\n",
    "    return w,b,J,I\n",
    "# running the program\n",
    "m,n = X.shape\n",
    "b_init = 0 \n",
    "w_init = np.zeros(n)\n",
    "iteration = 200\n",
    "\n",
    "a = 0.05\n",
    "\n",
    "\n",
    "w_final,b_final,J_his,i_his = gradient_descent(X,y_train,w_init,b_init,compute_cost,compute_gradient,iteration,a)\n",
    "            \n",
    "print(f\"final required w,b : {w_final} and {b_final}\")\n",
    "\n",
    "data = {\n",
    "  \"Cost\": J_his, \n",
    "  \"Iteration\": i_his\n",
    "}\n",
    "df=pd.DataFrame(data)\n",
    "df\n",
    "\n",
    "    \n"
   ]
  },
  {
   "cell_type": "code",
   "execution_count": 107,
   "id": "3f42f8e9",
   "metadata": {},
   "outputs": [
    {
     "data": {
      "text/plain": [
       "[<matplotlib.lines.Line2D at 0x2416180cca0>]"
      ]
     },
     "execution_count": 107,
     "metadata": {},
     "output_type": "execute_result"
    },
    {
     "data": {
      "image/png": "[encoded data removed]",
      "text/plain": [
       "<Figure size 640x480 with 1 Axes>"
      ]
     },
     "metadata": {},
     "output_type": "display_data"
    }
   ],
   "source": [
    "plt.xlabel(\"iterations\")\n",
    "plt.ylabel(\"cost\")\n",
    "plt.title(\"cost vs iterations\")\n",
    "plt.plot(i_his,J_his)\n"
   ]
  },
  {
   "cell_type": "code",
   "execution_count": 109,
   "id": "5a75cc74",
   "metadata": {},
   "outputs": [
    {
     "name": "stdout",
     "output_type": "stream",
     "text": [
      "0.8428787165556826\n"
     ]
    }
   ],
   "source": [
    "y = np.matmul(X,w_final)+b_final\n",
    "m = y_train.shape[0]\n",
    "mean = np.sum(y_test)/m\n",
    "#calculating the accuracy(R2)\n",
    "rss = np.sum(np.square(y-y_train))\n",
    "tss = np.sum(np.square(y_train - mean))\n",
    "accuracy = 1 - (rss/tss)\n",
    "print (accuracy)\n"
   ]
  },
  {
   "cell_type": "code",
   "execution_count": 46,
   "id": "359c09f4",
   "metadata": {},
   "outputs": [
    {
     "data": {
      "text/plain": [
       "(2000,)"
      ]
     },
     "execution_count": 46,
     "metadata": {},
     "output_type": "execute_result"
    }
   ],
   "source": [
    "y_test.shape"
   ]
  },
  {
   "cell_type": "code",
   "execution_count": 91,
   "id": "b4fb362e",
   "metadata": {},
   "outputs": [
    {
     "name": "stdout",
     "output_type": "stream",
     "text": [
      "(2000,)\n",
      "(2000,)\n"
     ]
    },
    {
     "data": {
      "image/png": "[encoded data removed]",
      "text/plain": [
       "<Figure size 640x480 with 1 Axes>"
      ]
     },
     "metadata": {},
     "output_type": "display_data"
    }
   ],
   "source": [
    "y = np.dot(X_test[:,3],w_final[9])+b_final\n",
    "plt.xlabel(\"feature\")\n",
    "plt.ylabel(\"y\")\n",
    "plt.plot(X_test[:,3],y)\n",
    "print(y.shape)\n",
    "print(X_test[:,1].shape"
   ]
  },
  {
   "cell_type": "code",
   "execution_count": null,
   "id": "e03ae11a",
   "metadata": {},
   "outputs": [],
   "source": []
  }
 ],
 "metadata": {
  "kernelspec": {
   "display_name": "Python 3 (ipykernel)",
   "language": "python",
   "name": "python3"
  },
  "language_info": {
   "codemirror_mode": {
    "name": "ipython",
    "version": 3
   },
   "file_extension": ".py",
   "mimetype": "text/x-python",
   "name": "python",
   "nbconvert_exporter": "python",
   "pygments_lexer": "ipython3",
   "version": "3.9.13"
  }
 },
 "nbformat": 4,
 "nbformat_minor": 5
}
