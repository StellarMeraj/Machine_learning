{
 "cells": [
  {
   "cell_type": "code",
   "execution_count": 25,
   "id": "2c3d8958",
   "metadata": {},
   "outputs": [],
   "source": [
    "import numpy as np \n",
    "import matplotlib.pyplot as plt\n",
    "import pandas as pd"
   ]
  },
  {
   "cell_type": "code",
   "execution_count": 50,
   "id": "0064481f",
   "metadata": {},
   "outputs": [
    {
     "name": "stdout",
     "output_type": "stream",
     "text": [
      "(30000, 784)\n"
     ]
    }
   ],
   "source": [
    "# reading the data\n",
    "df = pd.read_csv('classification_train.csv')\n",
    "temp = df.to_numpy()\n",
    "X_train = temp[:,2:787]\n",
    "m = X_train.shape[0]\n",
    "y_train = temp[:,0:2]\n",
    "y_new = np.zeros(m)\n",
    "print(X_train.shape)"
   ]
  },
  {
   "cell_type": "code",
   "execution_count": 51,
   "id": "13703a56",
   "metadata": {},
   "outputs": [],
   "source": [
    "def zscore(X_in):\n",
    "    mu     = np.mean(X_in, axis=0)                 \n",
    "    sigma  = np.std(X_in, axis=0)                \n",
    "    X_norm = (X_in - mu) / sigma \n",
    "    X_op = X_in/255\n",
    "    return X_op"
   ]
  },
  {
   "cell_type": "code",
   "execution_count": 52,
   "id": "43463c4d",
   "metadata": {},
   "outputs": [],
   "source": [
    "# initialise the pararmeters\n",
    "# dimension of n layer = dim_of_n\n",
    "def ini_weight(dim_of_n):\n",
    "    L = len(dim_of_n)\n",
    "    W = {}\n",
    "    B ={}\n",
    "    for i in range(1,L):\n",
    "        W[i] = np.random.randn(dim_of_n[i],dim_of_n[i-1])\n",
    "        B[i] = np.random.randn(dim_of_n[i],1)\n",
    "    \n",
    "    return W,B\n"
   ]
  },
  {
   "cell_type": "code",
   "execution_count": 53,
   "id": "43d2b330",
   "metadata": {},
   "outputs": [],
   "source": [
    "w,b = ini_weight([784,10,10])"
   ]
  },
  {
   "cell_type": "code",
   "execution_count": 54,
   "id": "34eae606",
   "metadata": {},
   "outputs": [],
   "source": [
    "# computoing the sigmoid fucntion and ReLU\n",
    "def compute_sigmoid(a_in,w,b):\n",
    "    z = np.matmul(a_in,w.T) + b.T\n",
    "    a = 1/(1+np.exp(-z))\n",
    "    return a\n",
    "def compute_ReLU(a_in,w,b):\n",
    "    z = np.matmul(a_in,w.T) + b.T\n",
    "    a = np.max(z,0)\n",
    "    return a\n",
    "def RelU_derivative(z):\n",
    "    return (z>0)\n",
    "\n",
    "    "
   ]
  },
  {
   "cell_type": "code",
   "execution_count": 60,
   "id": "4059bb84",
   "metadata": {},
   "outputs": [],
   "source": [
    "#forward propagation\n",
    "def forward_prop(x, w, b):\n",
    "    L = len(w)+1                 \n",
    "    A ={}\n",
    "    Z={}\n",
    "    A[0]=x\n",
    "    \n",
    "    for l in range(1, L-1):\n",
    "        A[l]=compute_ReLU(A[l-1],w[l],b[l])\n",
    "    A[L-1] = compute_sigmoid(A[L-2],w[L-1],b[L-1])\n",
    "    return A\n",
    "\n",
    "\n"
   ]
  },
  {
   "cell_type": "code",
   "execution_count": 61,
   "id": "192a482b",
   "metadata": {},
   "outputs": [],
   "source": [
    "# compute cost \n",
    "def cost(A,y_train):\n",
    "     cost = (-1/m) * (np.dot(y_train, np.log(A).T) + np.dot((1-y_train), np.log(1-A).T))"
   ]
  },
  {
   "cell_type": "code",
   "execution_count": 58,
   "id": "cd549e3a",
   "metadata": {},
   "outputs": [
    {
     "name": "stdout",
     "output_type": "stream",
     "text": [
      "[[0. 0. 0. ... 0. 1. 0.]\n",
      " [0. 0. 0. ... 0. 0. 0.]\n",
      " [0. 1. 0. ... 0. 0. 0.]\n",
      " ...\n",
      " [0. 0. 0. ... 0. 0. 1.]\n",
      " [0. 0. 0. ... 0. 0. 0.]\n",
      " [0. 0. 0. ... 0. 0. 0.]]\n"
     ]
    }
   ],
   "source": [
    "# creating 10 different y labels\n",
    "m = y_train.shape[0]\n",
    "for i in range(10):\n",
    "    for j in range(m):\n",
    "        if y_train[j][1] == i:\n",
    "            y_new[j] = 1\n",
    "        else:\n",
    "            y_new[j] = 0 \n",
    "    y_train = np.hstack((y_train, np.atleast_2d(y_new).T))\n",
    "y_ntrain = y_train\n",
    "print(y_ntrain[:,2:13])"
   ]
  },
  {
   "cell_type": "code",
   "execution_count": 63,
   "id": "f3b25a21",
   "metadata": {},
   "outputs": [
    {
     "name": "stdout",
     "output_type": "stream",
     "text": [
      "{0: array([[0., 0., 0., ..., 0., 0., 0.],\n",
      "       [0., 0., 0., ..., 0., 0., 0.],\n",
      "       [0., 0., 0., ..., 0., 0., 0.],\n",
      "       ...,\n",
      "       [0., 0., 0., ..., 0., 0., 0.],\n",
      "       [0., 0., 0., ..., 0., 0., 0.],\n",
      "       [0., 0., 0., ..., 0., 0., 0.]]), 1: array([21.06764994, 39.34423285, 45.41008879, 35.35463286, 48.37144142,\n",
      "       23.2855989 , 27.47148063, 33.25827554, 26.4489741 , 57.07486792]), 2: array([[6.06986978e-60, 4.14418463e-11, 1.00000000e+00, 1.00000000e+00,\n",
      "        1.25500828e-06, 1.00000000e+00, 1.00000000e+00, 6.36263101e-27,\n",
      "        1.38346606e-29, 1.00000000e+00]])}\n"
     ]
    }
   ],
   "source": [
    "a = forward_prop(zscore(X_train),w,b)\n",
    "print(a)"
   ]
  },
  {
   "cell_type": "code",
   "execution_count": null,
   "id": "5141d275",
   "metadata": {},
   "outputs": [],
   "source": []
  },
  {
   "cell_type": "code",
   "execution_count": null,
   "id": "77cea17e",
   "metadata": {},
   "outputs": [],
   "source": []
  },
  {
   "cell_type": "code",
   "execution_count": 38,
   "id": "522077a7",
   "metadata": {},
   "outputs": [],
   "source": [
    "\n"
   ]
  },
  {
   "cell_type": "code",
   "execution_count": null,
   "id": "e5d70bf1",
   "metadata": {},
   "outputs": [],
   "source": []
  }
 ],
 "metadata": {
  "kernelspec": {
   "display_name": "Python 3 (ipykernel)",
   "language": "python",
   "name": "python3"
  },
  "language_info": {
   "codemirror_mode": {
    "name": "ipython",
    "version": 3
   },
   "file_extension": ".py",
   "mimetype": "text/x-python",
   "name": "python",
   "nbconvert_exporter": "python",
   "pygments_lexer": "ipython3",
   "version": "3.9.13"
  }
 },
 "nbformat": 4,
 "nbformat_minor": 5
}
