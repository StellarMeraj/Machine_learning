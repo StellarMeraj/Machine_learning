{
 "cells": [
  {
   "cell_type": "code",
   "execution_count": 6,
   "id": "2c3d8958",
   "metadata": {},
   "outputs": [],
   "source": [
    "import numpy as np \n",
    "import matplotlib.pyplot as plt\n",
    "import pandas as pd"
   ]
  },
  {
   "cell_type": "code",
   "execution_count": 7,
   "id": "0064481f",
   "metadata": {},
   "outputs": [
    {
     "name": "stdout",
     "output_type": "stream",
     "text": [
      "(30000, 784)\n"
     ]
    }
   ],
   "source": [
    "# reading the data\n",
    "df = pd.read_csv('classification_train.csv')\n",
    "temp = df.to_numpy()\n",
    "X_train = temp[:,2:787]\n",
    "m = X_train.shape[0]\n",
    "y_train = temp[:,0:2]\n",
    "y_new = np.zeros(m)\n",
    "print(X_train.shape)"
   ]
  },
  {
   "cell_type": "code",
   "execution_count": 26,
   "id": "13703a56",
   "metadata": {},
   "outputs": [],
   "source": [
    "def zscore(X_in):\n",
    "    mu     = np.mean(X_in, axis=0)                 \n",
    "    sigma  = np.std(X_in, axis=0)                \n",
    "    X_norm = (X_in - mu) / sigma \n",
    "    X_op = X_in/255\n",
    "    return X_op"
   ]
  },
  {
   "cell_type": "code",
   "execution_count": 8,
   "id": "43463c4d",
   "metadata": {},
   "outputs": [],
   "source": [
    "# initialise the pararmeters\n",
    "# dimension of n layer = dim_of_n\n",
    "def ini_weight(dim_of_n):\n",
    "    L = len(dim_of_n)\n",
    "    W = {}\n",
    "    B ={}\n",
    "    for i in range(1,L):\n",
    "        W['w'+ str(i)] = np.random.randn(dim_of_n[i],dim_of_n[i-1])\n",
    "        B['b'+ str(i)] = np.random.randn(dim_of_n[i],1)\n",
    "    \n",
    "    return W,B\n"
   ]
  },
  {
   "cell_type": "code",
   "execution_count": 9,
   "id": "43d2b330",
   "metadata": {},
   "outputs": [
    {
     "ename": "KeyError",
     "evalue": "'w1'",
     "output_type": "error",
     "traceback": [
      "\u001b[1;31m---------------------------------------------------------------------------\u001b[0m",
      "\u001b[1;31mKeyError\u001b[0m                                  Traceback (most recent call last)",
      "\u001b[1;32m~\\AppData\\Local\\Temp\\ipykernel_59064\\909220872.py\u001b[0m in \u001b[0;36m<module>\u001b[1;34m\u001b[0m\n\u001b[0;32m      1\u001b[0m \u001b[0ma\u001b[0m\u001b[1;33m,\u001b[0m\u001b[0mb\u001b[0m \u001b[1;33m=\u001b[0m \u001b[0mini_weight\u001b[0m\u001b[1;33m(\u001b[0m\u001b[1;33m[\u001b[0m\u001b[1;36m784\u001b[0m\u001b[1;33m,\u001b[0m\u001b[1;33m]\u001b[0m\u001b[1;33m)\u001b[0m\u001b[1;33m\u001b[0m\u001b[1;33m\u001b[0m\u001b[0m\n\u001b[1;32m----> 2\u001b[1;33m \u001b[0mprint\u001b[0m\u001b[1;33m(\u001b[0m\u001b[0ma\u001b[0m\u001b[1;33m[\u001b[0m\u001b[1;34m\"w1\"\u001b[0m\u001b[1;33m]\u001b[0m\u001b[1;33m.\u001b[0m\u001b[0mT\u001b[0m\u001b[1;33m.\u001b[0m\u001b[0mshape\u001b[0m\u001b[1;33m)\u001b[0m\u001b[1;33m\u001b[0m\u001b[1;33m\u001b[0m\u001b[0m\n\u001b[0m",
      "\u001b[1;31mKeyError\u001b[0m: 'w1'"
     ]
    }
   ],
   "source": [
    "a,b = ini_weight([784,])\n",
    "print(a[\"w1\"].T.shape)"
   ]
  },
  {
   "cell_type": "code",
   "execution_count": 19,
   "id": "34eae606",
   "metadata": {},
   "outputs": [],
   "source": [
    "# computoing the sigmoid fucntion and ReLU\n",
    "def compute_sigmoid(a_in,w,b):\n",
    "    z = np.matmul(a_in,w.T) + b.T\n",
    "    a = 1/(1+np.exp(-z))\n",
    "    data = w,a_in,b\n",
    "    return a,data\n",
    "def compute_ReLU(a_in,w,b):\n",
    "    z = np.matmul(a_in,w.T) + b.T\n",
    "    a = np.max(z,0)\n",
    "    data = w,a_in,b\n",
    "    return a,data\n",
    "\n",
    "    "
   ]
  },
  {
   "cell_type": "code",
   "execution_count": 53,
   "id": "4059bb84",
   "metadata": {},
   "outputs": [],
   "source": [
    "#forward propagation\n",
    "def forward_prop(X, dim_of_n):\n",
    "    c_data = []\n",
    "    L = len(dim_of_n)                 \n",
    "    A = X\n",
    "    W,B = ini_weight(dim_of_n)\n",
    "    for l in range(1, L-1):\n",
    "        A_out = A\n",
    "        A, data = compute_ReLU(A_out, W['w' + str(l)], B['b' + str(l)] )\n",
    "        c_data.append(data)\n",
    "\n",
    "    A, data = compute_sigmoid(A, W['w' + str(L-1)], B['b' + str(L-1)] )\n",
    "    c_data.append(data)\n",
    "            \n",
    "    return A, c_data\n",
    "\n",
    "\n"
   ]
  },
  {
   "cell_type": "code",
   "execution_count": 54,
   "id": "192a482b",
   "metadata": {},
   "outputs": [],
   "source": [
    "# compute cost \n",
    "def cost(A,y_train):\n",
    "     cost = (-1/m) * (np.dot(y_train, np.log(A).T) + np.dot((1-y_train), np.log(1-A).T))"
   ]
  },
  {
   "cell_type": "code",
   "execution_count": 55,
   "id": "cd549e3a",
   "metadata": {},
   "outputs": [
    {
     "name": "stdout",
     "output_type": "stream",
     "text": [
      "[[0. 0. 0. ... 1. 0. 0.]\n",
      " [0. 0. 0. ... 0. 0. 0.]\n",
      " [0. 1. 0. ... 0. 0. 0.]\n",
      " ...\n",
      " [0. 0. 0. ... 0. 1. 0.]\n",
      " [0. 0. 0. ... 0. 0. 0.]\n",
      " [0. 0. 0. ... 0. 0. 0.]]\n"
     ]
    }
   ],
   "source": [
    "# creating 10 different y labels\n",
    "m = y_train.shape[0]\n",
    "for i in range(10):\n",
    "    for j in range(m):\n",
    "        if y_train[j][1] == i:\n",
    "            y_new[j] = 1\n",
    "        else:\n",
    "            y_new[j] = 0 \n",
    "    y_train = np.hstack((y_train, np.atleast_2d(y_new).T))\n",
    "y_ntrain = y_train\n",
    "print(y_ntrain[:,2:13])"
   ]
  },
  {
   "cell_type": "code",
   "execution_count": 63,
   "id": "f3b25a21",
   "metadata": {},
   "outputs": [
    {
     "data": {
      "text/plain": [
       "(array([[0.7573596 , 0.01871603, 0.25348047, 0.9796474 , 0.27882611]]),\n",
       " array([-260.56171712,   -6.63111793,  303.1463501 ,  196.22481421,\n",
       "        -164.65101947]),\n",
       " array([[0.12537706]]))"
      ]
     },
     "execution_count": 63,
     "metadata": {},
     "output_type": "execute_result"
    }
   ],
   "source": [
    "a,b = forward_prop(zscore(X_train),[784,60,5,1])\n",
    "\n"
   ]
  },
  {
   "cell_type": "code",
   "execution_count": 66,
   "id": "5141d275",
   "metadata": {},
   "outputs": [],
   "source": [
    "# calculating gradients\n",
    "def gradients(dZ, data):\n",
    "    A_prev, W, b = data\n",
    "    m = A_prev.shape[1]\n",
    "    dW = (1/m) * np.dot(dZ, A_prev.T)\n",
    "    db = (1/m) * np.sum(dZ, axis=1, keepdims=True)\n",
    "    dA_prev = np.dot(W.T,dZ)\n",
    "    return dW,db,dA_prev"
   ]
  },
  {
   "cell_type": "code",
   "execution_count": 64,
   "id": "167ba424",
   "metadata": {},
   "outputs": [
    {
     "ename": "IndentationError",
     "evalue": "expected an indented block (2852100380.py, line 3)",
     "output_type": "error",
     "traceback": [
      "\u001b[1;36m  File \u001b[1;32m\"C:\\Users\\91869\\AppData\\Local\\Temp\\ipykernel_59064\\2852100380.py\"\u001b[1;36m, line \u001b[1;32m3\u001b[0m\n\u001b[1;33m    \u001b[0m\n\u001b[1;37m    ^\u001b[0m\n\u001b[1;31mIndentationError\u001b[0m\u001b[1;31m:\u001b[0m expected an indented block\n"
     ]
    }
   ],
   "source": [
    "#computing relu and sigmoid backward \n",
    "def compute_backward_ReLU(dA):\n",
    "    if dA > 0 :\n",
    "        dZ = 1 \n",
    "    else \n",
    "        dZ = 0\n",
    "    \n",
    "def compute_backward_sigmoid(dA):\n",
    "    dZ = \n",
    "    "
   ]
  },
  {
   "cell_type": "code",
   "execution_count": 65,
   "id": "77cea17e",
   "metadata": {},
   "outputs": [],
   "source": [
    "def backward_prop(AL, Y, data):\n",
    "\n",
    "    gradients = {}\n",
    "    L = len(data) \n",
    "    m = AL.shape[1]\n",
    "    \n",
    "    dZL = 1/m*(AL-Y)\n",
    "    present_data = data[L]\n",
    "    gradients[\"dA\" + str(L)], gradients[\"dW\" + str(L)], gradients[\"db\" + str(L)] = compute_sigmoid(dAL, present_data)\n",
    "\n",
    "    for l in reversed(range(L-1)):\n",
    "        current_data = data[l]\n",
    "        dA_p, dW_p, db_p = compute_ReLU(grads[\"dA\" + str(l + 1)], present_data)\n",
    "        grads[\"dA\" + str(l)] = dA_prev_temp\n",
    "        grads[\"dW\" + str(l + 1)] = dW_temp\n",
    "        grads[\"db\" + str(l + 1)] = db_temp\n",
    "\n",
    "    return gradients"
   ]
  },
  {
   "cell_type": "code",
   "execution_count": null,
   "id": "522077a7",
   "metadata": {},
   "outputs": [],
   "source": [
    "def update_parameters(parameters, grads, learning_rate):\n",
    "    L = len(parameters)\n",
    "    for l in range(L):\n",
    "        parameters[\"W\" + str(l+1)] = parameters[\"W\" + str(l+1)] - learning_rate * grads[\"dW\" + str(l+1)]\n",
    "        parameters[\"b\" + str(l+1)] = parameters[\"b\" + str(l+1)] - learning_rate * grads[\"db\" + str(l+1)]\n",
    "    return parameters\n"
   ]
  }
 ],
 "metadata": {
  "kernelspec": {
   "display_name": "Python 3 (ipykernel)",
   "language": "python",
   "name": "python3"
  },
  "language_info": {
   "codemirror_mode": {
    "name": "ipython",
    "version": 3
   },
   "file_extension": ".py",
   "mimetype": "text/x-python",
   "name": "python",
   "nbconvert_exporter": "python",
   "pygments_lexer": "ipython3",
   "version": "3.9.13"
  }
 },
 "nbformat": 4,
 "nbformat_minor": 5
}
